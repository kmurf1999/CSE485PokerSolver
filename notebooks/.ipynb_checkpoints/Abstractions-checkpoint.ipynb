{
 "cells": [
  {
   "cell_type": "markdown",
   "metadata": {},
   "source": [
    "### Imports"
   ]
  },
  {
   "cell_type": "code",
   "execution_count": 2,
   "metadata": {},
   "outputs": [],
   "source": [
    "import numpy as np\n",
    "import scipy\n",
    "import pandas as pd\n",
    "import matplotlib.pyplot as plt\n",
    "import seaborn as sns\n",
    "import eval7\n",
    "from eval7 import Card, HandRange"
   ]
  },
  {
   "cell_type": "markdown",
   "metadata": {},
   "source": [
    "# State & Action Abstraction\n",
    "\n",
    "Because No-Limit texas holdem has $10^{71}$ decision nodes, it is infeasible to compute it in its unabstracted form. To solve this we have to create an abstraction of the game to reduce its size.  To do this we have two methods...\n",
    "\n",
    " - **State Abstraction** - Group similar hands together and compute strategies for the groups\n",
    " - **Action Abstraction** - Restrict bet sizes to common values e.g. (50% of pot, 100% of pot)"
   ]
  },
  {
   "cell_type": "markdown",
   "metadata": {},
   "source": [
    "## State Abstraction\n",
    "\n",
    "Many methods have been used to group strategically similar hands together.  The simplest is *Expected-Hand Strength* (EHS).  EHS is simply the odds of that hand to win versus a random hand.  To group hands together by EHS, we first calculate the EHS of every hand.  Then we use a clustering algorithm like K-means to group them together."
   ]
  },
  {
   "cell_type": "code",
   "execution_count": 3,
   "metadata": {},
   "outputs": [
    {
     "name": "stdout",
     "output_type": "stream",
     "text": [
      "EHS(AsAh) =  0.8517500162124634\n"
     ]
    }
   ],
   "source": [
    "# get the EHS of AsAh\n",
    "hand = [Card(\"As\"), Card(\"Ah\")]\n",
    "all_hands = HandRange(\"22+,A2+,K2+,Q2+,J2+,T2+,92+,82+,72+,62+,52+,42+,32+\")\n",
    "ehs = eval7.py_hand_vs_range_monte_carlo(hand, all_hands, [], 10000)\n",
    "\n",
    "print(\"EHS(AsAh) = \", ehs)"
   ]
  },
  {
   "cell_type": "markdown",
   "metadata": {},
   "source": [
    "#### Problems with EHS\n",
    "\n",
    "The main problem with EHS is that it would group hands that are strategically different together.  Here's an example"
   ]
  },
  {
   "cell_type": "code",
   "execution_count": 4,
   "metadata": {},
   "outputs": [
    {
     "name": "stdout",
     "output_type": "stream",
     "text": [
      "EHS(JsTs) =  0.5708500146865845\n",
      "EHS(4c4d) =  0.5704500079154968\n"
     ]
    }
   ],
   "source": [
    "hand1 = [Card(\"Js\"), Card(\"Ts\")]\n",
    "hand2 = [Card(\"4c\"), Card(\"4d\")]\n",
    "\n",
    "ehs1 = eval7.py_hand_vs_range_monte_carlo(hand1, all_hands, [], 10000)\n",
    "ehs2 = eval7.py_hand_vs_range_monte_carlo(hand2, all_hands, [], 10000)\n",
    "print(\"EHS(JsTs) = \", ehs1)\n",
    "print(\"EHS(4c4d) = \", ehs2)"
   ]
  },
  {
   "cell_type": "markdown",
   "metadata": {},
   "source": [
    "Notice how these hands have very similar EHS.  However, we would not want to group them together.  JTs suited is a *drawing-hand* and could likely improve to a straight or a flush or bust and be worth nothing.  44 is likely to remain a one-pair hand.  To highlight this difference, let's plot a histogram of EHS after showing all 5 cards for both hands.  "
   ]
  },
  {
   "cell_type": "code",
   "execution_count": 28,
   "metadata": {},
   "outputs": [
    {
     "data": {
      "image/png": "[encoded data removed]",
      "text/plain": [
       "<Figure size 1080x360 with 2 Axes>"
      ]
     },
     "metadata": {
      "needs_background": "light"
     },
     "output_type": "display_data"
    }
   ],
   "source": [
    "# First let's fix the flop\n",
    "# flop = [Card(\"9s\"), Card(\"5d\"), Card(\"Kc\")]\n",
    "\n",
    "def get_bin(n_bins, val):\n",
    "    inc = 1.0 / n_bins\n",
    "    thr = 1.0 - inc\n",
    "    b = n_bins - 1\n",
    "    while val < thr:\n",
    "        b -= 1\n",
    "        thr -= inc\n",
    "    return b\n",
    "\n",
    "def generate_histogram(hand, initial_board=[]):\n",
    "    # where to store our histogram\n",
    "    # lets take 1000 samples\n",
    "    n_samples = 1000\n",
    "    n_bins = 30\n",
    "    data = np.zeros((n_bins))\n",
    "    for i in range(n_samples):\n",
    "        # deal random turn and river\n",
    "        deck = eval7.Deck()\n",
    "        deck.shuffle()\n",
    "        board = initial_board.copy()\n",
    "        while len(board) < 5:\n",
    "            new_card = deck.deal(1)\n",
    "            if not new_card in board and not new_card in hand:\n",
    "                board += new_card\n",
    "        \n",
    "        ehs = eval7.py_hand_vs_range_exact(hand, all_hands, board)\n",
    "    \n",
    "        data[get_bin(n_bins, ehs)] += 1.0\n",
    "    data /= n_samples\n",
    "    return data\n",
    "\n",
    "# plt.figure(figsize=(15, 5))\n",
    "\n",
    "# plt.subplot(1, 2, 1)\n",
    "\n",
    "# plt.title(\"JsTs\")\n",
    "# hist = generate_histogram([Card(\"Js\"), Card(\"Ts\")])\n",
    "# plt.hist(hist, bins=30)\n",
    "# plt.xlabel(\"EHS\")\n",
    "# plt.ylabel(\"Count\")\n",
    "\n",
    "# plt.subplot(1, 2, 2)\n",
    "# plt.title(\"4c4d\")\n",
    "# hist = generate_histogram([Card(\"4c\"), Card(\"4d\")])\n",
    "# plt.hist(hist, bins=30)\n",
    "# plt.xlabel(\"EHS\")\n",
    "# plt.ylabel(\"Count\")\n",
    "\n",
    "# plt.show()"
   ]
  },
  {
   "cell_type": "markdown",
   "metadata": {},
   "source": [
    "The two graphs above show how the EHS for both hands change after the 5 public cards are revealed.\n",
    "\n",
    "As we can we JsTs is either a weak or a strong hand once we reach the river, but almost never an average one.  On the other hand, 4c4d is usually an average hand and sometimes very strong (when it makes three-of-a-kind).  Because of this, we should not group these hands together.  Although their EHS is very similar, the probability distribution of their ehs could not be more different."
   ]
  },
  {
   "cell_type": "markdown",
   "metadata": {},
   "source": [
    "#### Earth Mover's Distance\n",
    "\n",
    "Earth Mover's Distance (EMD) is a distance metric used to compare two distributions.  Given two histograms EMD returns the minimum cost of turning histogram A into histogram B.  A small EMD distance implies similarity between two histograms while a large distance means that the two distrubitions are not alike.  Although the above histograms have the same mean, their EMD is large because their distrubition of mass could not be more different.  This means that if we use EMD instead of EHS as our distance metric, JsTs will place into a different bucket than 4c4d which is what we want."
   ]
  },
  {
   "cell_type": "code",
   "execution_count": 22,
   "metadata": {},
   "outputs": [],
   "source": [
    "def wasserstein_distance(A,B):\n",
    "    n = len(A)\n",
    "    dist = np.zeros(n)\n",
    "    for x in range(n-1):\n",
    "        dist[x+1] = (A[x] - B[x]) + dist[x]\n",
    "    return np.sum(abs(dist))"
   ]
  },
  {
   "cell_type": "code",
   "execution_count": 26,
   "metadata": {},
   "outputs": [],
   "source": [
    "hist_JTs = generate_histogram([Card(\"Js\"), Card(\"Ts\")])\n",
    "hist_44 = generate_histogram([Card(\"4d\"), Card(\"4c\")])\n",
    "hist_KQs = generate_histogram([Card(\"Ks\"), Card(\"Qs\")])"
   ]
  },
  {
   "cell_type": "code",
   "execution_count": 27,
   "metadata": {},
   "outputs": [
    {
     "name": "stdout",
     "output_type": "stream",
     "text": [
      "EMD JsTs-4c4d:  0.07559811342321336\n",
      "EMD JsTs-4c4d:  23538.539120892063\n",
      "EMD JsTs-KsQs:  0.06457977285422385\n",
      "EMD JsTs-KsQs:  30820.11075853184\n"
     ]
    }
   ],
   "source": [
    "emd_1 = scipy.stats.wasserstein_distance(hist_JTs, hist_44)\n",
    "print(\"EMD JsTs-4c4d: \", emd_1)\n",
    "print(\"EMD JsTs-4c4d: \", wasserstein_distance(hist_JTs, hist_44))\n",
    "emd_2 = scipy.stats.wasserstein_distance(hist_KQs, hist_JTs)\n",
    "print(\"EMD JsTs-KsQs: \", emd_2)\n",
    "print(\"EMD JsTs-KsQs: \", wasserstein_distance(hist_KQs, hist_JTs))"
   ]
  },
  {
   "cell_type": "markdown",
   "metadata": {},
   "source": [
    "Notice that although the EHS of 4s4c and JsTs is more similar than the EHS of JsTs and KsQs, the EMD distance is smaller.  This is good because our strategy for JsTs should be more like our strategy KsQs since they are the same type of hand."
   ]
  },
  {
   "cell_type": "markdown",
   "metadata": {},
   "source": [
    "Earth Mover's distance has proven to be a very strong choice in the field of Poker AI and is still currently being used in combination with other techniques.  Today, the best known strategy for state-abstraction is to compute buckets at each betting round (PREFLOP, FLOP, TURN, and RIVER).  This allows us to use different techniques at each betting round.\n",
    "\n",
    "For example, EMD distance would not work as a distance metric on the river because no more cards will be revealed so the hand has no chance to improve or get worse.  We could then use EHS, and this has shown to perform okay, but better yet we can use another special distance metric for the final round called **Opponent Cluster Hand Strength**"
   ]
  },
  {
   "cell_type": "markdown",
   "metadata": {},
   "source": [
    "### Opponent Cluster Hand Strength\n",
    "\n",
    " - Here is the [Original Paper](#http://citeseerx.ist.psu.edu/viewdoc/download?doi=10.1.1.295.2143&rep=rep1&type=pdf) on OCHS for more information\n",
    "\n",
    "Opponent Cluster Hand Strength (OCHS) is a distance metric that requires two steps.\n",
    "\n",
    "First, we compute an N bucket abstraction for the preflop betting round using EMD.  We commonly use somewhere between 6 and 12 buckets.  Each of these buckets represents a group of increasingly stronger hand-ranges.  Here are the strongest two buckets\n",
    "\n",
    " - AA,KK,QQ,JJ,TT,99,88\n",
    " - 66,77,A9o+,A8s+,KTo+,K7s+,QTs+,\n",
    " \n",
    "Second, for each possible hand on the final round, we calculate how likely it is to beat each of the 8 buckets and store these results in a histogram as before.  We then use the $L_{2}$ distance as our distance metric between each of these histograms.  The $L_{2}$ distance metric is a simple pairwise distance function.  In our case it is the sum of the differences between each of the bins."
   ]
  },
  {
   "cell_type": "code",
   "execution_count": 52,
   "metadata": {},
   "outputs": [
    {
     "data": {
      "image/png": "[encoded data removed]",
      "text/plain": [
       "<Figure size 1440x360 with 3 Axes>"
      ]
     },
     "metadata": {
      "needs_background": "light"
     },
     "output_type": "display_data"
    },
    {
     "name": "stdout",
     "output_type": "stream",
     "text": [
      "Board:  [Card(\"Ac\"), Card(\"2d\"), Card(\"Td\"), Card(\"6c\"), Card(\"9h\")]\n",
      "L2 dist JsTs-4c4d:  2.2090571150183678\n"
     ]
    }
   ],
   "source": [
    "opponent_clusters = [\n",
    "    HandRange(\"88+\"),\n",
    "    HandRange(\"66,77,A9o+,A7s+,KTo+,K9s+,QTs+\"),\n",
    "    HandRange(\"33,44,55,A2s-A8s,K5s-K9s,A2o-A6o,K3o-K8o,QTo+\"),\n",
    "    HandRange(\"Q8o+,J8o+,T9s,Q7s-Q9s,J7s+,T7s+\"),\n",
    "    HandRange(\"22,K2o-K4o,Q2o-Q7o,J4o-J7o,J2s-J7s,Q2s-Q6s,K2s\"),\n",
    "    HandRange(\"T6o-T8o,96o-98o,86o,87o,76o,T3s-T7s,95s-98s,85s+,75s+,65s\"),\n",
    "    HandRange(\"J2o,J3o,T2o-T5o,92o-95o,84o,85o,75o,T2s,92s-94s,82s-84s,74s\"),\n",
    "    HandRange(\"82o-83o,72o-74o,62o-65o,52+,42+,32,62s-64s,72s,73s\")\n",
    "]\n",
    "\n",
    "board = [Card(\"Ac\"), Card(\"2d\"), Card(\"Td\"), Card(\"6c\"), Card(\"9h\")]\n",
    "\n",
    "def generate_ochs_histogram(hand, board):\n",
    "    data = np.zeros(len(opponent_clusters))\n",
    "    data = [eval7.py_hand_vs_range_exact(hand, hr, board) for hr in opponent_clusters]\n",
    "    return data\n",
    "\n",
    "plt.figure(figsize=(20, 5))\n",
    "\n",
    "plt.subplot(1, 3, 1)\n",
    "\n",
    "plt.title(\"JsTs\")\n",
    "hist_1 = generate_ochs_histogram([Card(\"Js\"), Card(\"Ts\")], board)\n",
    "plt.bar(x=range(len(opponent_clusters)), height=hist_1)\n",
    "plt.xlabel(\"EHS\")\n",
    "plt.ylabel(\"Count\")\n",
    "plt.ylim([0,1])\n",
    "\n",
    "plt.subplot(1, 3, 2)\n",
    "plt.title(\"4c4d\")\n",
    "hist_2 = generate_ochs_histogram([Card(\"4c\"), Card(\"4d\")], board)\n",
    "plt.bar(x=range(len(opponent_clusters)), height=hist_2)\n",
    "plt.xlabel(\"EHS\")\n",
    "plt.ylabel(\"Count\")\n",
    "plt.ylim([0,1])\n",
    "\n",
    "plt.subplot(1, 3, 3)\n",
    "plt.title(\"KsQs\")\n",
    "hist_3 = generate_ochs_histogram([Card(\"Ks\"), Card(\"Qs\")], board)\n",
    "plt.bar(x=range(len(opponent_clusters)), height=hist_3)\n",
    "plt.xlabel(\"EHS\")\n",
    "plt.ylabel(\"Count\")\n",
    "plt.ylim([0,1])\n",
    "\n",
    "plt.show()\n",
    "print(\"Board: \", board)\n",
    "\n",
    "# compute the l2 dist by summing the absolute difference of each bin\n",
    "l2_dist = sum([abs(x-y) for x,y in zip(hist_1, hist_2)])\n",
    "print(\"L2 dist JsTs-4c4d: \", l2_dist)"
   ]
  },
  {
   "cell_type": "markdown",
   "metadata": {},
   "source": [
    "This shows us the expected probability of this each hand winning against each opponent cluster.  Notice how both hands do very poorly against the strongest clusters and very well against the weaker ones.  In this scenario 4c4d would be much closer to KsQs because both hands are relativly weak whereas JsTs has made second-top pair."
   ]
  },
  {
   "cell_type": "markdown",
   "metadata": {},
   "source": [
    "### Potential Aware abstraction\n",
    "\n",
    "Here a link to the [Original Paper](#https://www.aaai.org/ocs/index.php/AAAI/AAAI14/paper/viewFile/8459/8487) on potential-aware abstraction\n",
    "\n",
    "Potential-Aware abstraction is an abstraction method that takes in to account the hands potential.  That is it calculates the probability that a hand on round $N$ will be placed into bucket $B$ in round $N+1$.  Potential-Aware abstractions are used to address the short-comings of the other distribution aware approachs.  While some hands can have similar EMD on the RIVER, their EHS distributions *throughout* other betting rounds can be much different.  Potential-Aware abstractions take these transitions into account and provide a much more robust abstraction.  To compute this abstraction we have to work backwards.\n",
    "\n",
    "Say we have already computed an abstraction for the $TURN$ using $EMD$ and we want to compute a potential-aware abstraction for the $FLOP$.  To do this, we create a compute a histogram $H$ where $H_{i}$ is the percent chance that the next card will send our hand into bucket $i$ on the next round."
   ]
  },
  {
   "cell_type": "markdown",
   "metadata": {},
   "source": [
    "## Action Abstraction"
   ]
  },
  {
   "cell_type": "code",
   "execution_count": null,
   "metadata": {},
   "outputs": [],
   "source": []
  },
  {
   "cell_type": "code",
   "execution_count": null,
   "metadata": {},
   "outputs": [],
   "source": []
  },
  {
   "cell_type": "code",
   "execution_count": null,
   "metadata": {},
   "outputs": [],
   "source": []
  },
  {
   "cell_type": "code",
   "execution_count": null,
   "metadata": {},
   "outputs": [],
   "source": []
  },
  {
   "cell_type": "code",
   "execution_count": null,
   "metadata": {},
   "outputs": [],
   "source": []
  }
 ],
 "metadata": {
  "kernelspec": {
   "display_name": "Python 3",
   "language": "python",
   "name": "python3"
  },
  "language_info": {
   "codemirror_mode": {
    "name": "ipython",
    "version": 3
   },
   "file_extension": ".py",
   "mimetype": "text/x-python",
   "name": "python",
   "nbconvert_exporter": "python",
   "pygments_lexer": "ipython3",
   "version": "3.8.5"
  }
 },
 "nbformat": 4,
 "nbformat_minor": 4
}
